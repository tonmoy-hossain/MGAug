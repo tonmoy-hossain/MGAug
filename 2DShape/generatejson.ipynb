{
 "cells": [
  {
   "cell_type": "code",
   "execution_count": 1,
   "id": "f761d1c7-43a0-4112-8525-c9be00897b32",
   "metadata": {
    "tags": []
   },
   "outputs": [],
   "source": [
    "import SimpleITK as sitk\n",
    "import os, glob\n",
    "import json\n",
    "import numpy as np\n",
    "import random\n",
    "tr_keyword = 'train'\n",
    "tr_dictout = {tr_keyword:[]}"
   ]
  },
  {
   "cell_type": "code",
   "execution_count": 2,
   "id": "91d2d54f-1396-40ad-8dc9-294d13e5a765",
   "metadata": {
    "tags": []
   },
   "outputs": [],
   "source": [
    "rootdir = './bone'\n",
    "source_img = './bone/bone01.png'\n",
    "\n",
    "for subdir, dirs, files in os.walk(rootdir):\n",
    "    for file in files:\n",
    "        file_path = os.path.join(subdir, file)\n",
    "        smalldict = {}\n",
    "        smalldict['source'] = source_img\n",
    "        smalldict['target'] = file_path #filenamelist[j][2:]\n",
    "        smalldict['label'] = 'bone'\n",
    "        tr_dictout['train'].append(smalldict)"
   ]
  },
  {
   "cell_type": "code",
   "execution_count": 3,
   "id": "a6ae6089-a6c0-4b2a-8d27-dd06efbe0562",
   "metadata": {
    "tags": []
   },
   "outputs": [],
   "source": [
    "rootdir = './bottle'\n",
    "source_img = './bottle/bottle16.png'\n",
    "\n",
    "for subdir, dirs, files in os.walk(rootdir):\n",
    "    for file in files:\n",
    "        file_path = os.path.join(subdir, file)\n",
    "        smalldict = {}\n",
    "        smalldict['source'] = source_img\n",
    "        smalldict['target'] = file_path #filenamelist[j][2:]\n",
    "        smalldict['label'] = 'bottle'\n",
    "        tr_dictout['train'].append(smalldict)"
   ]
  },
  {
   "cell_type": "code",
   "execution_count": 4,
   "id": "2217cd06-3afa-4b72-b82e-9ba348ec7a52",
   "metadata": {
    "tags": []
   },
   "outputs": [],
   "source": [
    "rootdir = './circle'\n",
    "source_img = './circle/0.png'\n",
    "\n",
    "for subdir, dirs, files in os.walk(rootdir):\n",
    "    for file in files:\n",
    "        file_path = os.path.join(subdir, file)\n",
    "        smalldict = {}\n",
    "        smalldict['source'] = source_img\n",
    "        smalldict['target'] = file_path #filenamelist[j][2:]\n",
    "        smalldict['label'] = 'circle'\n",
    "        tr_dictout['train'].append(smalldict)"
   ]
  },
  {
   "cell_type": "code",
   "execution_count": 5,
   "id": "f0bc9c94-8501-4763-8cb6-dfe4c8d53182",
   "metadata": {
    "tags": []
   },
   "outputs": [],
   "source": [
    "rootdir = './envelope'\n",
    "source_img = './envelope/19.png'\n",
    "\n",
    "for subdir, dirs, files in os.walk(rootdir):\n",
    "    for file in files:\n",
    "        file_path = os.path.join(subdir, file)\n",
    "        smalldict = {}\n",
    "        smalldict['source'] = source_img\n",
    "        smalldict['target'] = file_path #filenamelist[j][2:]\n",
    "        smalldict['label'] = 'envelope'\n",
    "        tr_dictout['train'].append(smalldict)"
   ]
  },
  {
   "cell_type": "code",
   "execution_count": 6,
   "id": "af851d43-f201-463a-9df8-c162f3946427",
   "metadata": {
    "tags": []
   },
   "outputs": [],
   "source": [
    "rootdir = './face'\n",
    "source_img = './face/face01.png'\n",
    "\n",
    "for subdir, dirs, files in os.walk(rootdir):\n",
    "    for file in files:\n",
    "        file_path = os.path.join(subdir, file)\n",
    "        smalldict = {}\n",
    "        smalldict['source'] = source_img\n",
    "        smalldict['target'] = file_path #filenamelist[j][2:]\n",
    "        smalldict['label'] = 'face'\n",
    "        tr_dictout['train'].append(smalldict)"
   ]
  },
  {
   "cell_type": "code",
   "execution_count": 7,
   "id": "c167f2ad-5a14-4d1c-b386-5dae2309d379",
   "metadata": {
    "tags": []
   },
   "outputs": [],
   "source": [
    "rootdir = './fish'\n",
    "source_img = './fish/fish04.png'\n",
    "\n",
    "for subdir, dirs, files in os.walk(rootdir):\n",
    "    for file in files:\n",
    "        file_path = os.path.join(subdir, file)\n",
    "        smalldict = {}\n",
    "        smalldict['source'] = source_img\n",
    "        smalldict['target'] = file_path #filenamelist[j][2:]\n",
    "        smalldict['label'] = 'fish'\n",
    "        tr_dictout['train'].append(smalldict)"
   ]
  },
  {
   "cell_type": "code",
   "execution_count": 8,
   "id": "d12c4598-a694-4f49-914a-c708d91adca2",
   "metadata": {
    "tags": []
   },
   "outputs": [],
   "source": [
    "rootdir = './heart'\n",
    "source_img = './heart/heart01.png'\n",
    "\n",
    "for subdir, dirs, files in os.walk(rootdir):\n",
    "    for file in files:\n",
    "        file_path = os.path.join(subdir, file)\n",
    "        smalldict = {}\n",
    "        smalldict['source'] = source_img\n",
    "        smalldict['target'] = file_path #filenamelist[j][2:]\n",
    "        smalldict['label'] = 'heart'\n",
    "        tr_dictout['train'].append(smalldict)"
   ]
  },
  {
   "cell_type": "code",
   "execution_count": 9,
   "id": "e4abc102-7e41-48a3-a743-9b69b0c50fa2",
   "metadata": {
    "tags": []
   },
   "outputs": [],
   "source": [
    "rootdir = './triangle'\n",
    "source_img = './triangle/34.png'\n",
    "\n",
    "for subdir, dirs, files in os.walk(rootdir):\n",
    "    for file in files:\n",
    "        file_path = os.path.join(subdir, file)\n",
    "        smalldict = {}\n",
    "        smalldict['source'] = source_img\n",
    "        smalldict['target'] = file_path #filenamelist[j][2:]\n",
    "        smalldict['label'] = 'triangle'\n",
    "        tr_dictout['train'].append(smalldict)"
   ]
  },
  {
   "cell_type": "code",
   "execution_count": 10,
   "id": "872da6dc-a30c-4018-ac7b-aa32f544d511",
   "metadata": {
    "tags": []
   },
   "outputs": [],
   "source": [
    "savefilename = './data'+ '.json'\n",
    "with open(savefilename, 'w') as fp:\n",
    "\tjson.dump(tr_dictout, fp)"
   ]
  },
  {
   "cell_type": "code",
   "execution_count": null,
   "id": "242e1855-930f-4a8f-a31f-80b42ce02e5e",
   "metadata": {},
   "outputs": [],
   "source": []
  }
 ],
 "metadata": {
  "kernelspec": {
   "display_name": "PyTorch 2.0.1",
   "language": "python",
   "name": "pytorch-2.0.1"
  },
  "language_info": {
   "codemirror_mode": {
    "name": "ipython",
    "version": 3
   },
   "file_extension": ".py",
   "mimetype": "text/x-python",
   "name": "python",
   "nbconvert_exporter": "python",
   "pygments_lexer": "ipython3",
   "version": "3.10.12"
  }
 },
 "nbformat": 4,
 "nbformat_minor": 5
}
